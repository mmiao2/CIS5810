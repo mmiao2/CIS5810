{
  "nbformat": 4,
  "nbformat_minor": 0,
  "metadata": {
    "colab": {
      "provenance": [],
      "include_colab_link": true
    },
    "kernelspec": {
      "name": "python3",
      "display_name": "Python 3"
    }
  },
  "cells": [
    {
      "cell_type": "markdown",
      "metadata": {
        "id": "view-in-github",
        "colab_type": "text"
      },
      "source": [
        "<a href=\"https://colab.research.google.com/github/mmiao2/CIS5810Upenn/blob/main/Project_1_Dolly_Zoom.ipynb\" target=\"_parent\"><img src=\"https://colab.research.google.com/assets/colab-badge.svg\" alt=\"Open In Colab\"/></a>"
      ]
    },
    {
      "cell_type": "code",
      "source": [
        "import numpy as np"
      ],
      "metadata": {
        "id": "kJmcP5CzLlU-"
      },
      "execution_count": 2,
      "outputs": []
    },
    {
      "cell_type": "code",
      "metadata": {
        "id": "2d68CUI2MMtc"
      },
      "source": [
        "'''\n",
        "Function (modify)\n",
        "'''\n",
        "def compute_focal_length( d_ref, f_ref, pos ):\n",
        "  \"\"\"\n",
        "  compute camera focal length using given camera position\n",
        "\n",
        "  Input:\n",
        "  - d_ref: 1 by 1 double, distance of the object whose size remains constant\n",
        "  - f_ref: 1 by 1 double, previous camera focal length\n",
        "  - pos: 1 by n, each element represent camera center position on the z axis.\n",
        "  Output:\n",
        "  - f: 1 by n, camera focal length\n",
        "  \"\"\"\n",
        "  # IMPLEMENT HERE\n",
        "  f = (d_ref - pos) * f_ref / d_ref\n",
        "  return f"
      ],
      "execution_count": 1,
      "outputs": []
    },
    {
      "cell_type": "code",
      "source": [
        "'''\n",
        "Test case\n",
        "'''\n",
        "d_ref = 4\n",
        "f_ref = 400\n",
        "pos = -2.333\n",
        "f = compute_focal_length(d_ref, f_ref, pos)\n",
        "assert type(f) == float, \"You gave wrong output size.\"\n",
        "assert np.isclose(f, 633.30), \"Your computation of the focal length is off.\""
      ],
      "metadata": {
        "id": "YlHxoU1eMH-T"
      },
      "execution_count": 5,
      "outputs": []
    },
    {
      "cell_type": "code",
      "metadata": {
        "id": "aRwMqYMGJdst"
      },
      "source": [
        "'''\n",
        "Function (modify)\n",
        "'''\n",
        "\n",
        "def compute_f_pos(d1_ref, d2_ref, H1, H2, ratio, f_ref):\n",
        "  \"\"\"\n",
        "  compute camera focal length and camera position to achieve certain ratio\n",
        "  between objects\n",
        "\n",
        "  Input:\n",
        "  - d1_ref: distance of the first object\n",
        "  - d2_ref: distance of the second object\n",
        "  - H1: height of the first object in physical world\n",
        "  - H2: height of the second object in physical world\n",
        "  - ratio: ratio between two objects (h1/h2)\n",
        "  - f_ref: 1 by 1 double, previous camera focal length\n",
        "  Output:\n",
        "  - f: 1 by 1, camera focal length\n",
        "  - pos: 1 by 1, camera position\n",
        "  \"\"\"\n",
        "\n",
        "  # TODO: IMPLEMENT HERE\n",
        "  #calculate pos based on the fact that h1 and h2 heights remain the same after movement\n",
        "  #so h1 / new f = H1 / new d1 and h2 / new f = H2 / new d2\n",
        "  pos = (ratio * H2 * d1_ref - H1 * d2_ref) / (ratio * H2 - H1)\n",
        "  h1 = f_ref * H1 / d1_ref\n",
        "  f = h1 / (H1 / (d1_ref - pos))\n",
        "  return f, pos"
      ],
      "execution_count": 6,
      "outputs": []
    },
    {
      "cell_type": "code",
      "metadata": {
        "id": "Zs5rZ_GvPfWf",
        "colab": {
          "base_uri": "https://localhost:8080/"
        },
        "outputId": "aa72fc37-ca98-400d-d0ef-2c5ef57a2f3a"
      },
      "source": [
        "'''\n",
        "Test case\n",
        "'''\n",
        "# test case\n",
        "d1_ref = 4\n",
        "d2_ref = 20\n",
        "H1 = 4\n",
        "H2 = 6\n",
        "ratio = H2 / H1\n",
        "f_ref = 400\n",
        "f, pos = compute_f_pos(d1_ref, d2_ref, H1, H2, ratio, f_ref)\n",
        "assert type(f) == float, \"You gave wrong output type for focal length\"\n",
        "assert type(pos) == float, \"You gave wrong output type for position\"\n",
        "assert np.isclose(f, 1280), \"Your computation of the focal length is off. Hint: h1/h2 != H1/H2\"\n",
        "assert np.isclose(pos, -8.8), \"Your computation of the position is off. Hint: h1/h2 != H1/H2\""
      ],
      "execution_count": 8,
      "outputs": [
        {
          "output_type": "stream",
          "name": "stdout",
          "text": [
            "1280.0 -8.8\n"
          ]
        }
      ]
    }
  ]
}